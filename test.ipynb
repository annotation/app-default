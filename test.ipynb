{
 "cells": [
  {
   "cell_type": "markdown",
   "metadata": {},
   "source": [
    "```markdown\n",
    "1. Big item 1\n",
    "    * subitem\n",
    "    * subitem\n",
    "--------\n",
    "2. Big item 2\n",
    "    * subitem\n",
    "    * subitem\n",
    "```"
   ]
  },
  {
   "cell_type": "markdown",
   "metadata": {},
   "source": [
    "1. Big item 1\n",
    "    * subitem\n",
    "    * subitem\n",
    "--------\n",
    "2. Big item 2\n",
    "    * subitem\n",
    "    * subitem"
   ]
  },
  {
   "cell_type": "code",
   "execution_count": null,
   "metadata": {},
   "outputs": [],
   "source": []
  },
  {
   "cell_type": "markdown",
   "metadata": {},
   "source": [
    "```markdown\n",
    "1. Big item 1\n",
    "    * subitem\n",
    "    * subitem\n",
    "    --------\n",
    "2. Big item 2\n",
    "    * subitem\n",
    "    * subitem\n",
    "```"
   ]
  },
  {
   "cell_type": "markdown",
   "metadata": {},
   "source": [
    "1. Big item 1\n",
    "    * subitem\n",
    "    * subitem\n",
    "    --------\n",
    "2. Big item 2\n",
    "    * subitem\n",
    "    * subitem"
   ]
  },
  {
   "cell_type": "code",
   "execution_count": null,
   "metadata": {},
   "outputs": [],
   "source": []
  },
  {
   "cell_type": "markdown",
   "metadata": {},
   "source": [
    "```markdown\n",
    "1. Big item 1\n",
    "    * subitem\n",
    "    * subitem\n",
    "2. Big item 2\n",
    "    * subitem\n",
    "    * subitem\n",
    "```"
   ]
  },
  {
   "cell_type": "markdown",
   "metadata": {},
   "source": [
    "1. Big item 1\n",
    "    * subitem\n",
    "    * subitem\n",
    "2. Big item 2\n",
    "    * subitem\n",
    "    * subitem"
   ]
  },
  {
   "cell_type": "code",
   "execution_count": null,
   "metadata": {},
   "outputs": [],
   "source": []
  }
 ],
 "metadata": {
  "kernelspec": {
   "display_name": "Python 3",
   "language": "python",
   "name": "python3"
  },
  "language_info": {
   "codemirror_mode": {
    "name": "ipython",
    "version": 3
   },
   "file_extension": ".py",
   "mimetype": "text/x-python",
   "name": "python",
   "nbconvert_exporter": "python",
   "pygments_lexer": "ipython3",
   "version": "3.7.2"
  }
 },
 "nbformat": 4,
 "nbformat_minor": 4
}
